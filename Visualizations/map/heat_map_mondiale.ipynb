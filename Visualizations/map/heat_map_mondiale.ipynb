{
 "cells": [
  {
   "cell_type": "code",
   "execution_count": null,
   "metadata": {},
   "outputs": [],
   "source": [
    "import os \n",
    "try:    \n",
    "    import folium\n",
    "except ImportError:\n",
    "    !pip install --user folium\n",
    "    import folium\n",
    "    \n",
    "from folium import plugins\n",
    "import pandas as pd\n",
    "import numpy as np"
   ]
  },
  {
   "cell_type": "code",
   "execution_count": 3,
   "metadata": {},
   "outputs": [
    {
     "name": "stderr",
     "output_type": "stream",
     "text": [
      "/home/dario/.local/lib/python3.6/site-packages/IPython/core/interactiveshell.py:3044: DtypeWarning: Columns (2) have mixed types. Specify dtype option on import or set low_memory=False.\n",
      "  interactivity=interactivity, compiler=compiler, result=result)\n"
     ]
    },
    {
     "data": {
      "text/html": [
       "<div>\n",
       "<style scoped>\n",
       "    .dataframe tbody tr th:only-of-type {\n",
       "        vertical-align: middle;\n",
       "    }\n",
       "\n",
       "    .dataframe tbody tr th {\n",
       "        vertical-align: top;\n",
       "    }\n",
       "\n",
       "    .dataframe thead th {\n",
       "        text-align: right;\n",
       "    }\n",
       "</style>\n",
       "<table border=\"1\" class=\"dataframe\">\n",
       "  <thead>\n",
       "    <tr style=\"text-align: right;\">\n",
       "      <th></th>\n",
       "      <th>Unnamed: 0</th>\n",
       "      <th>index</th>\n",
       "      <th>ID_event</th>\n",
       "      <th>g_city</th>\n",
       "      <th>g_lat</th>\n",
       "      <th>g_lon</th>\n",
       "      <th>venue_name</th>\n",
       "      <th>v_lat</th>\n",
       "      <th>v_lon</th>\n",
       "      <th>dist</th>\n",
       "      <th>maxdist</th>\n",
       "    </tr>\n",
       "  </thead>\n",
       "  <tbody>\n",
       "    <tr>\n",
       "      <th>0</th>\n",
       "      <td>0</td>\n",
       "      <td>579576</td>\n",
       "      <td>101083482</td>\n",
       "      <td>Wantagh</td>\n",
       "      <td>40.69</td>\n",
       "      <td>-73.51</td>\n",
       "      <td>NaN</td>\n",
       "      <td>NaN</td>\n",
       "      <td>NaN</td>\n",
       "      <td>24.792620</td>\n",
       "      <td>24.792620</td>\n",
       "    </tr>\n",
       "    <tr>\n",
       "      <th>1</th>\n",
       "      <td>1</td>\n",
       "      <td>627720</td>\n",
       "      <td>103812152</td>\n",
       "      <td>Rotterdam</td>\n",
       "      <td>51.93</td>\n",
       "      <td>4.48</td>\n",
       "      <td>NaN</td>\n",
       "      <td>NaN</td>\n",
       "      <td>NaN</td>\n",
       "      <td>21.602335</td>\n",
       "      <td>21.602335</td>\n",
       "    </tr>\n",
       "    <tr>\n",
       "      <th>2</th>\n",
       "      <td>2</td>\n",
       "      <td>1225418</td>\n",
       "      <td>104431012</td>\n",
       "      <td>San Francisco</td>\n",
       "      <td>37.75</td>\n",
       "      <td>-122.42</td>\n",
       "      <td>The 500 Club</td>\n",
       "      <td>37.763176</td>\n",
       "      <td>-122.42402</td>\n",
       "      <td>7.000000</td>\n",
       "      <td>7.000000</td>\n",
       "    </tr>\n",
       "    <tr>\n",
       "      <th>3</th>\n",
       "      <td>3</td>\n",
       "      <td>764134</td>\n",
       "      <td>105444102</td>\n",
       "      <td>Palm Coast</td>\n",
       "      <td>29.53</td>\n",
       "      <td>-81.23</td>\n",
       "      <td>NaN</td>\n",
       "      <td>NaN</td>\n",
       "      <td>NaN</td>\n",
       "      <td>567.794485</td>\n",
       "      <td>567.794485</td>\n",
       "    </tr>\n",
       "    <tr>\n",
       "      <th>4</th>\n",
       "      <td>4</td>\n",
       "      <td>382211</td>\n",
       "      <td>106746502</td>\n",
       "      <td>Torrance</td>\n",
       "      <td>33.83</td>\n",
       "      <td>-118.31</td>\n",
       "      <td>NaN</td>\n",
       "      <td>NaN</td>\n",
       "      <td>NaN</td>\n",
       "      <td>22.568371</td>\n",
       "      <td>22.568371</td>\n",
       "    </tr>\n",
       "  </tbody>\n",
       "</table>\n",
       "</div>"
      ],
      "text/plain": [
       "   Unnamed: 0    index   ID_event         g_city  g_lat   g_lon    venue_name  \\\n",
       "0           0   579576  101083482        Wantagh  40.69  -73.51           NaN   \n",
       "1           1   627720  103812152      Rotterdam  51.93    4.48           NaN   \n",
       "2           2  1225418  104431012  San Francisco  37.75 -122.42  The 500 Club   \n",
       "3           3   764134  105444102     Palm Coast  29.53  -81.23           NaN   \n",
       "4           4   382211  106746502       Torrance  33.83 -118.31           NaN   \n",
       "\n",
       "       v_lat      v_lon        dist     maxdist  \n",
       "0        NaN        NaN   24.792620   24.792620  \n",
       "1        NaN        NaN   21.602335   21.602335  \n",
       "2  37.763176 -122.42402    7.000000    7.000000  \n",
       "3        NaN        NaN  567.794485  567.794485  \n",
       "4        NaN        NaN   22.568371   22.568371  "
      ]
     },
     "execution_count": 3,
     "metadata": {},
     "output_type": "execute_result"
    }
   ],
   "source": [
    "ddrop=pd.read_csv(\"/home/dario/NeoMeetup/Visualizations/map/ddrop_all.csv\")\n",
    "ddrop.head()"
   ]
  },
  {
   "cell_type": "code",
   "execution_count": 4,
   "metadata": {},
   "outputs": [
    {
     "name": "stdout",
     "output_type": "stream",
     "text": [
      "281443\n"
     ]
    },
    {
     "data": {
      "text/plain": [
       "True"
      ]
     },
     "execution_count": 4,
     "metadata": {},
     "output_type": "execute_result"
    }
   ],
   "source": [
    "lat_df=ddrop[['v_lat', 'v_lon']]\n",
    "print(len(ddrop))\n",
    "str(lat_df.v_lat[0]) == \"nan\""
   ]
  },
  {
   "cell_type": "code",
   "execution_count": 5,
   "metadata": {},
   "outputs": [
    {
     "data": {
      "text/plain": [
       "281443"
      ]
     },
     "execution_count": 5,
     "metadata": {},
     "output_type": "execute_result"
    }
   ],
   "source": [
    "for line in lat_df.itertuples():\n",
    "    if str(line.v_lat) == \"nan\":\n",
    "        lat_df['v_lat'].at[line.Index]= ddrop['g_lat'].at[line.Index]\n",
    "    if str(line.v_lon) == \"nan\":\n",
    "        lat_df['v_lon'].at[line.Index]= ddrop['g_lon'].at[line.Index]\n",
    "len(lat_df)"
   ]
  },
  {
   "cell_type": "code",
   "execution_count": 6,
   "metadata": {},
   "outputs": [
    {
     "data": {
      "text/plain": [
       "v_lat    False\n",
       "v_lon    False\n",
       "dtype: bool"
      ]
     },
     "execution_count": 6,
     "metadata": {},
     "output_type": "execute_result"
    }
   ],
   "source": [
    "lat_df.isna().any()"
   ]
  },
  {
   "cell_type": "code",
   "execution_count": 7,
   "metadata": {},
   "outputs": [],
   "source": [
    "lat_df=lat_df.astype(float)\n",
    "\n",
    "from folium.plugins import HeatMap\n",
    "\n",
    "\n",
    "map_hooray = folium.Map(location=[ddrop['v_lat'].mean(),ddrop['v_lon'].mean()], zoom_start=5)\n",
    "\n",
    "\n",
    "# List comprehension to make out list of lists\n",
    "heat_data = [[row['v_lat'],row['v_lon']] for index, row in lat_df.iterrows()]\n",
    "\n",
    "# Plot it on the map\n",
    "HeatMap(heat_data).add_to(map_hooray)\n",
    "\n",
    "# Display the map\n",
    "map_hooray.save(\"/home/dario/NeoMeetup/Visualizations/map/heat_map_world.html\")"
   ]
  },
  {
   "cell_type": "code",
   "execution_count": null,
   "metadata": {},
   "outputs": [],
   "source": []
  }
 ],
 "metadata": {
  "kernelspec": {
   "display_name": "Python 3",
   "language": "python",
   "name": "python3"
  },
  "language_info": {
   "codemirror_mode": {
    "name": "ipython",
    "version": 3
   },
   "file_extension": ".py",
   "mimetype": "text/x-python",
   "name": "python",
   "nbconvert_exporter": "python",
   "pygments_lexer": "ipython3",
   "version": "3.6.7"
  }
 },
 "nbformat": 4,
 "nbformat_minor": 2
}
