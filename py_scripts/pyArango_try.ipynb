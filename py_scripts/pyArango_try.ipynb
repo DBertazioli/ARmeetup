{
 "cells": [
  {
   "cell_type": "code",
   "execution_count": 16,
   "metadata": {},
   "outputs": [],
   "source": [
    "from __future__ import print_function\n",
    "\n",
    "import platform\n",
    "import pandas as pd\n",
    "import subprocess\n",
    "import time\n",
    "\n",
    "try:\n",
    "    import pyArango\n",
    "except ImportError as e:\n",
    "    #process = subprocess.Popen(\"pip install --user pyorient\".split(), stdout=subprocess.PIPE)\n",
    "    process = subprocess.Popen(\"pip install pyArango --user\".split(), stdout=subprocess.PIPE)\n",
    "\n",
    "    output, error = process.communicate()\n",
    "    print(output, \"error = {}\".format(error), e)\n",
    "    import pyArango"
   ]
  },
  {
   "cell_type": "code",
   "execution_count": 17,
   "metadata": {},
   "outputs": [
    {
     "data": {
      "text/plain": [
       "True"
      ]
     },
     "execution_count": 17,
     "metadata": {},
     "output_type": "execute_result"
    }
   ],
   "source": [
    "from pyArango.connection import *\n",
    "from pyArango import database\n",
    "from pyArango.collection import Edges\n",
    "\n",
    "from pyArango.collection import *\n",
    "from pyArango.graph import *\n",
    "\n"
   ]
  },
  {
   "cell_type": "code",
   "execution_count": 3,
   "metadata": {},
   "outputs": [],
   "source": [
    "db_name=\"meetup1\"\n",
    "graph_name=\"MeetupGraph\"\n",
    "my_auth=\"root\"\n",
    "\n",
    "reset=True\n",
    "\n",
    "if platform.release()==\"4.9.0-8-amd64\":\n",
    "    \n",
    "    local=False #set to false for vm \n",
    "else:\n",
    "    local=True\n",
    "    \n",
    "\n",
    "if local:\n",
    "    addr= \"http://10.9.13.4:7474\"\n",
    "else:\n",
    "    addr= \"localhost:7474\""
   ]
  },
  {
   "cell_type": "code",
   "execution_count": 4,
   "metadata": {
    "scrolled": true
   },
   "outputs": [
    {
     "data": {
      "text/html": [
       "<div>\n",
       "<style scoped>\n",
       "    .dataframe tbody tr th:only-of-type {\n",
       "        vertical-align: middle;\n",
       "    }\n",
       "\n",
       "    .dataframe tbody tr th {\n",
       "        vertical-align: top;\n",
       "    }\n",
       "\n",
       "    .dataframe thead th {\n",
       "        text-align: right;\n",
       "    }\n",
       "</style>\n",
       "<table border=\"1\" class=\"dataframe\">\n",
       "  <thead>\n",
       "    <tr style=\"text-align: right;\">\n",
       "      <th></th>\n",
       "      <th>member_id</th>\n",
       "      <th>member_name</th>\n",
       "    </tr>\n",
       "  </thead>\n",
       "  <tbody>\n",
       "    <tr>\n",
       "      <th>0</th>\n",
       "      <td>220200963</td>\n",
       "      <td>Sarah Roxas</td>\n",
       "    </tr>\n",
       "    <tr>\n",
       "      <th>1</th>\n",
       "      <td>253755396</td>\n",
       "      <td>Lupco Trpeski</td>\n",
       "    </tr>\n",
       "    <tr>\n",
       "      <th>2</th>\n",
       "      <td>272979286</td>\n",
       "      <td>Malikmika</td>\n",
       "    </tr>\n",
       "    <tr>\n",
       "      <th>3</th>\n",
       "      <td>6</td>\n",
       "      <td>Scott Heiferman</td>\n",
       "    </tr>\n",
       "    <tr>\n",
       "      <th>4</th>\n",
       "      <td>232783879</td>\n",
       "      <td>Luis Eduardo Saltini</td>\n",
       "    </tr>\n",
       "  </tbody>\n",
       "</table>\n",
       "</div>"
      ],
      "text/plain": [
       "   member_id           member_name\n",
       "0  220200963           Sarah Roxas\n",
       "1  253755396         Lupco Trpeski\n",
       "2  272979286             Malikmika\n",
       "3          6       Scott Heiferman\n",
       "4  232783879  Luis Eduardo Saltini"
      ]
     },
     "execution_count": 4,
     "metadata": {},
     "output_type": "execute_result"
    }
   ],
   "source": [
    "df=pd.read_csv(\"~/ARmeetup/csv/struttura/member.csv\")\n",
    "df.head()"
   ]
  },
  {
   "cell_type": "code",
   "execution_count": 5,
   "metadata": {},
   "outputs": [],
   "source": [
    "try:\n",
    "    conn = Connection(addr, verbose=True,verify=True)\n",
    "except Exception as e:\n",
    "    print(e)\n",
    "    sys.exit()"
   ]
  },
  {
   "cell_type": "code",
   "execution_count": 6,
   "metadata": {},
   "outputs": [],
   "source": [
    "if not conn.hasDatabase(db_name):\n",
    "    print (\"creating db: {}\".format(db_name))\n",
    "    conn.createDatabase(name=db_name)"
   ]
  },
  {
   "cell_type": "code",
   "execution_count": 7,
   "metadata": {},
   "outputs": [],
   "source": [
    "db = conn[db_name] # all databases are loaded automatically into the connection and are accessible in this fashion"
   ]
  },
  {
   "cell_type": "code",
   "execution_count": 8,
   "metadata": {},
   "outputs": [],
   "source": [
    "class Member(Collection):\n",
    "    _fields = {\n",
    "        \"member_id\": Field(),\n",
    "        \"member_name\": Field()\n",
    "    }\n",
    "class Group(Collection):\n",
    "    _fields = {\n",
    "        \"group_id\": Field(),\n",
    "        \"group_name\": Field()\n",
    "    }\n",
    "\n",
    "class subscribed_to(Edges): # theGraphtheGraph\n",
    "    _fields = {\n",
    "        \"response\": Field()\n",
    "    }\n",
    "    \n",
    "# Here's how you define a graph\n",
    "class MyGraph(Graph) :\n",
    "    _edgeDefinitions = [EdgeDefinition(\"subscribed_to\", fromCollections=[\"Member\"], toCollections=[\"Group\"])]\n",
    "    _orphanedCollections = []"
   ]
  },
  {
   "cell_type": "code",
   "execution_count": 9,
   "metadata": {},
   "outputs": [],
   "source": [
    "def reset_coll(db,drop=True, create=True):\n",
    "    if drop:\n",
    "        db.dropAllCollections()\n",
    "    if create:\n",
    "        try:\n",
    "            if not conn.hasDatabase(db_name):\n",
    "                print (\"creating db: {}\".format(db_name))\n",
    "                conn.createDatabase(name=db_name)\n",
    "            if not db.hasCollection(\"Member\"):\n",
    "                print (\"creating coll: {}\".format(\"Member\"))\n",
    "                db.createCollection(\"Member\")\n",
    "\n",
    "            if not db.hasCollection(\"subscribed_to\"):\n",
    "                print (\"creating coll: {}\".format(\"subscribed_to\"))\n",
    "                db.createCollection(\"subscribed_to\")\n",
    "            if not db.hasGraph(\"MyGraph\"):\n",
    "                print(\"creating graph: {}\".format(\"MyGraph\"))\n",
    "                theGraph = db.createGraph(\"MyGraph\")\n",
    "\n",
    "        except Exception as err:\n",
    "           #logging.critical(\n",
    "           #   \"Failed to create neomeetup DB: %\" \n",
    "           #   % err)\n",
    "            print(err, \"\\n err while resetting\")"
   ]
  },
  {
   "cell_type": "code",
   "execution_count": 10,
   "metadata": {},
   "outputs": [],
   "source": [
    "if reset:\n",
    "    reset_coll(db, create=False)"
   ]
  },
  {
   "cell_type": "code",
   "execution_count": 8,
   "metadata": {},
   "outputs": [],
   "source": []
  },
  {
   "cell_type": "code",
   "execution_count": 13,
   "metadata": {},
   "outputs": [],
   "source": [
    "# create the collections (do this only if they don't already exist in the database)\n",
    "if not db.hasCollection(\"Member\"):\n",
    "    print (\"creating coll: {}\".format(\"Member\"))\n",
    "    db.createCollection(\"Member\")\n",
    "    \n",
    "if not db.hasCollection(\"subscribed_to\"):\n",
    "    print (\"creating coll: {}\".format(\"subscribed_to\"))\n",
    "    db.createCollection(\"subscribed_to\")\n",
    "# same for the graph\n",
    "if not db.hasGraph(\"MyGraph\"):\n",
    "    print(\"creating graph: {}\".format(\"MyGraph\"))\n",
    "    theGraph = db.createGraph(\"MyGraph\")"
   ]
  },
  {
   "cell_type": "code",
   "execution_count": 12,
   "metadata": {},
   "outputs": [
    {
     "name": "stdout",
     "output_type": "stream",
     "text": [
      "creating graph: MyGraph\n"
     ]
    }
   ],
   "source": []
  },
  {
   "cell_type": "code",
   "execution_count": 11,
   "metadata": {},
   "outputs": [],
   "source": [
    "# creating some documents\n",
    "#h1 = theGraph.createVertex('Member', {\"member_id\": \"2\", \"member_name\":\"yolo\" })\n",
    "#h1.save()\n",
    "#h2 = theGraph.createVertex('Humans', {\"name\": \"simba2\"})\n",
    "# linking them\n",
    "#theGraph.link('Friend', h1, h2, {\"lifetime\": \"eternal\"})\n",
    "# deleting one of them along with the edge\n",
    "#theGraph.deleteVertex(h2)"
   ]
  },
  {
   "cell_type": "code",
   "execution_count": 14,
   "metadata": {
    "scrolled": true
   },
   "outputs": [],
   "source": [
    "go=False\n",
    "if go:\n",
    "    #stop=True\n",
    "    stop=True\n",
    "\n",
    "    #skip=True\n",
    "    skip=False\n",
    "\n",
    "    #verbose=True\n",
    "    verbose=True\n",
    "\n",
    "    n=100\n",
    "    n_skip=400000 #just debug purpose\n",
    "    n_stop=1000\n",
    "\n",
    "    start_t=time.time()\n",
    "\n",
    "    if verbose:\n",
    "        m_time=start_t\n",
    "\n",
    "    for line in df.itertuples():\n",
    "        if not skip:\n",
    "            theGraph.createVertex('Member', {\"member_id\": line.member_id, \"member_name\": line.member_name })\n",
    "            if (line.Index % n == 0 and line.Index!=0):    \n",
    "                if verbose: print(\"line is \", line.Index)\n",
    "                if verbose: \n",
    "                    if m_time:\n",
    "                        print(\"committed in {} s\".format((time.time()-m_time)))\n",
    "                    else:\n",
    "                        print(\"committed in {} s\".format((time.time()-start_t)))\n",
    "                    m_time=time.time()\n",
    "\n",
    "        else:\n",
    "            if line.Index >= n_skip:\n",
    "                theGraph.createVertex('Member', {\"member_id\": line.member_id, \"member_name\": line.member_name })\n",
    "                if line.Index % n == 0:    \n",
    "                    if verbose: print(\"line is \", line.Index)\n",
    "                    if verbose: \n",
    "                        print(\"committed in {} s\".format((time.time()-m_time)))\n",
    "                        m_time=time.time()\n",
    "\n",
    "        if stop:\n",
    "            if skip:\n",
    "                if line.Index == n_stop+n_skip:\n",
    "                    print(\"reached line {} in {} s\".format(line.Index, (time.time()-start_t)))\n",
    "                    print(\"breaking\")\n",
    "                    break\n",
    "            else:\n",
    "                if line.Index == n_stop:\n",
    "                    print(\"reached line {} in {} s\".format(line.Index, (time.time()-start_t)))\n",
    "                    print(\"breaking\")\n",
    "                    break\n",
    "\n",
    "\n",
    "    if not stop:\n",
    "        print(\"reached line {} in {} s\".format(len(df), (time.time()-start_t)))\n"
   ]
  }
 ],
 "metadata": {
  "kernelspec": {
   "display_name": "Python 3",
   "language": "python",
   "name": "python3"
  },
  "language_info": {
   "codemirror_mode": {
    "name": "ipython",
    "version": 3
   },
   "file_extension": ".py",
   "mimetype": "text/x-python",
   "name": "python",
   "nbconvert_exporter": "python",
   "pygments_lexer": "ipython3",
   "version": "3.6.7"
  }
 },
 "nbformat": 4,
 "nbformat_minor": 2
}
